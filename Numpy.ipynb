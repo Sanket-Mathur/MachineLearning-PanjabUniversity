{
 "cells": [
  {
   "cell_type": "code",
   "execution_count": 2,
   "metadata": {
    "collapsed": false
   },
   "outputs": [
   ],
   "source": [
    "import numpy as np"
   ]
  },
  {
   "cell_type": "code",
   "execution_count": 10,
   "metadata": {
    "collapsed": false
   },
   "outputs": [
    {
     "name": "stdout",
     "output_type": "stream",
     "text": [
      "[1 2 3 4 5]\n"
     ]
    },
    {
     "data": {
      "text/plain": [
       "numpy.ndarray"
      ]
     },
     "execution_count": 10,
     "metadata": {
     },
     "output_type": "execute_result"
    }
   ],
   "source": [
    "# 1-D array\n",
    "\n",
    "arr1d = np.array([1,2,3,4,5])\n",
    "print(arr1d)\n",
    "type(arr1d)"
   ]
  },
  {
   "cell_type": "code",
   "execution_count": 4,
   "metadata": {
    "collapsed": false
   },
   "outputs": [
    {
     "name": "stdout",
     "output_type": "stream",
     "text": [
      "[[ 1  2  3  4  5]\n",
      " [ 6  7  8  9 10]]\n"
     ]
    }
   ],
   "source": [
    "# 2-D array\n",
    "\n",
    "arr2d = np.array([[1,2,3,4,5],[6,7,8,9,10]])\n",
    "print(arr2d)"
   ]
  },
  {
   "cell_type": "code",
   "execution_count": 5,
   "metadata": {
    "collapsed": false
   },
   "outputs": [
    {
     "name": "stdout",
     "output_type": "stream",
     "text": [
      "[[[ 1  2  3  4  5]\n",
      "  [ 6  7  8  9 10]]\n",
      "\n",
      " [[11 12 13 14 15]\n",
      "  [16 17 18 19 20]]]\n"
     ]
    }
   ],
   "source": [
    "# 3-D array\n",
    "\n",
    "arr3d = np.array([[[1,2,3,4,5],[6,7,8,9,10]],\n",
    "                  [[11,12,13,14,15],[16,17,18,19,20]]])\n",
    "print(arr3d)"
   ]
  },
  {
   "cell_type": "code",
   "execution_count": 7,
   "metadata": {
    "collapsed": false
   },
   "outputs": [
    {
     "name": "stdout",
     "output_type": "stream",
     "text": [
      "1\n",
      "2\n",
      "3\n"
     ]
    }
   ],
   "source": [
    "# dimension of the array - ndim\n",
    "\n",
    "print(arr1d.ndim)\n",
    "print(arr2d.ndim)\n",
    "print(arr3d.ndim)"
   ]
  },
  {
   "cell_type": "code",
   "execution_count": 11,
   "metadata": {
    "collapsed": false
   },
   "outputs": [
    {
     "name": "stdout",
     "output_type": "stream",
     "text": [
      "5\n",
      "5\n",
      "5\n"
     ]
    }
   ],
   "source": [
    "# accessing the element of the array\n",
    "\n",
    "print(arr1d[4])\n",
    "\n",
    "print(arr2d[0][4])\n",
    "# print(arr2d[0, 4])\n",
    "\n",
    "print(arr3d[0][0][4])\n",
    "# print(arr3d[0, 0, 4])"
   ]
  },
  {
   "cell_type": "code",
   "execution_count": 14,
   "metadata": {
    "collapsed": false
   },
   "outputs": [
    {
     "name": "stdout",
     "output_type": "stream",
     "text": [
      "[2 3 4]\n",
      "[2 3 4]\n",
      "[2 3 4]\n"
     ]
    }
   ],
   "source": [
    "# slicing\n",
    "\n",
    "print(arr1d[1:4])\n",
    "\n",
    "print(arr2d[0][1:4])\n",
    "# print(arr2d[0, 1:4])\n",
    "\n",
    "print(arr3d[0][0][1:4])\n",
    "# print(arr3d[0, 0, 1:4])"
   ]
  },
  {
   "cell_type": "code",
   "execution_count": 15,
   "metadata": {
    "collapsed": false
   },
   "outputs": [
    {
     "name": "stdout",
     "output_type": "stream",
     "text": [
      "(5,)\n",
      "(2, 5)\n",
      "(2, 2, 5)\n"
     ]
    }
   ],
   "source": [
    "# shape of the array\n",
    "\n",
    "print(arr1d.shape)\n",
    "print(arr2d.shape)\n",
    "print(arr3d.shape)"
   ]
  },
  {
   "cell_type": "code",
   "execution_count": 17,
   "metadata": {
    "collapsed": false
   },
   "outputs": [
    {
     "name": "stdout",
     "output_type": "stream",
     "text": [
      "Original Array\n",
      "[[ 1  2  3  4  5]\n",
      " [ 6  7  8  9 10]]\n",
      "Reshaped Array\n",
      "[[ 1  2]\n",
      " [ 3  4]\n",
      " [ 5  6]\n",
      " [ 7  8]\n",
      " [ 9 10]]\n"
     ]
    }
   ],
   "source": [
    "# reshaping\n",
    "\n",
    "print('Original Array')\n",
    "print(arr2d)\n",
    "\n",
    "print('Reshaped Array')\n",
    "print(arr2d.reshape([5,2]))"
   ]
  },
  {
   "cell_type": "code",
   "execution_count": 19,
   "metadata": {
    "collapsed": false
   },
   "outputs": [
    {
     "name": "stdout",
     "output_type": "stream",
     "text": [
      "[1 3 5 7 9]\n",
      "[[ 0  1  2  3  4]\n",
      " [ 5  6  7  8  9]\n",
      " [10 11 12 13 14]\n",
      " [15 16 17 18 19]\n",
      " [20 21 22 23 24]]\n"
     ]
    }
   ],
   "source": [
    "# arange(start, stop, step)\n",
    "\n",
    "a = np.arange(1,10,2)\n",
    "print(a)\n",
    "\n",
    "b = np.arange(25)\n",
    "b = b.reshape([5,5])\n",
    "print(b)"
   ]
  },
  {
   "cell_type": "code",
   "execution_count": 21,
   "metadata": {
    "collapsed": false
   },
   "outputs": [
    {
     "name": "stdout",
     "output_type": "stream",
     "text": [
      "1 3 5 7 9 \n",
      "0 1 2 3 4 5 6 7 8 9 10 11 12 13 14 15 16 17 18 19 20 21 22 23 24 "
     ]
    }
   ],
   "source": [
    "for i in a:\n",
    "    print(i, end=' ')\n",
    "\n",
    "print('')\n",
    "for i in b:\n",
    "    for j in i:\n",
    "        print(j, end=' ')"
   ]
  },
  {
   "cell_type": "code",
   "execution_count": 22,
   "metadata": {
    "collapsed": false
   },
   "outputs": [
    {
     "name": "stdout",
     "output_type": "stream",
     "text": [
      "0 1 2 3 4 5 6 7 8 9 10 11 12 13 14 15 16 17 18 19 20 21 22 23 24 "
     ]
    }
   ],
   "source": [
    "# nditer\n",
    "\n",
    "for i in np.nditer(b):\n",
    "    print(i, end=' ')"
   ]
  },
  {
   "cell_type": "code",
   "execution_count": 23,
   "metadata": {
    "collapsed": false
   },
   "outputs": [
    {
     "data": {
      "text/plain": [
       "array([10, 20, 30, 40, 50, 60])"
      ]
     },
     "execution_count": 23,
     "metadata": {
     },
     "output_type": "execute_result"
    }
   ],
   "source": [
    "# concatenate\n",
    "\n",
    "a1 = np.arange(10,40,10)\n",
    "a2 = np.arange(40,70, 10)\n",
    "\n",
    "np.concatenate([a1, a2])"
   ]
  },
  {
   "cell_type": "code",
   "execution_count": 27,
   "metadata": {
    "collapsed": false
   },
   "outputs": [
    {
     "data": {
      "text/plain": [
       "array([[1, 2, 3, 1, 2, 3],\n",
       "       [4, 5, 6, 4, 5, 6]])"
      ]
     },
     "execution_count": 27,
     "metadata": {
     },
     "output_type": "execute_result"
    }
   ],
   "source": [
    "# use of axis parameter\n",
    "\n",
    "a1 = np.array([[1,2,3], [4,5,6]])\n",
    "a2 = np.array([[1,2,3], [4,5,6]])\n",
    "\n",
    "np.concatenate((a1, a2), axis=1)"
   ]
  },
  {
   "cell_type": "code",
   "execution_count": 31,
   "metadata": {
    "collapsed": false
   },
   "outputs": [
    {
     "name": "stdout",
     "output_type": "stream",
     "text": [
      "(array([3]),)\n",
      "(array([1, 3]),)\n"
     ]
    }
   ],
   "source": [
    "# searching - np.where()\n",
    "\n",
    "a = np.arange(10,60,10)\n",
    "print(np.where(a == 40))\n",
    "\n",
    "print(np.where(a % 20 == 0))"
   ]
  },
  {
   "cell_type": "code",
   "execution_count": 32,
   "metadata": {
    "collapsed": false
   },
   "outputs": [
    {
     "name": "stdout",
     "output_type": "stream",
     "text": [
      "[1 2 3 4 5]\n"
     ]
    }
   ],
   "source": [
    "# sorting - np.sort()\n",
    "\n",
    "a = np.array([4,2,5,3,1])\n",
    "print(np.sort(a))"
   ]
  },
  {
   "cell_type": "code",
   "execution_count": 37,
   "metadata": {
    "collapsed": false
   },
   "outputs": [
    {
     "name": "stdout",
     "output_type": "stream",
     "text": [
      "[2 3 4 9 7 0 1 8 6 5]\n",
      "[5 8 2 6 9 4 7 1 3 0]\n"
     ]
    }
   ],
   "source": [
    "# shuffle and permutation\n",
    "\n",
    "# shuffle changes the original array\n",
    "a1 = np.arange(10)\n",
    "np.random.shuffle(a1)\n",
    "print(a1)\n",
    "\n",
    "# permutation preserves the original array\n",
    "a2 = np.arange(10)\n",
    "print(np.random.permutation(a2))"
   ]
  },
  {
   "cell_type": "code",
   "execution_count": 57,
   "metadata": {
    "collapsed": false
   },
   "outputs": [
    {
     "name": "stdout",
     "output_type": "stream",
     "text": [
      "[[ 2  4  6]\n",
      " [ 8 10 12]\n",
      " [14 16 18]]\n",
      "[[0 0 0]\n",
      " [0 0 0]\n",
      " [0 0 0]]\n",
      "[[ 1  4  9]\n",
      " [16 25 36]\n",
      " [49 64 81]]\n",
      "[[1. 1. 1.]\n",
      " [1. 1. 1.]\n",
      " [1. 1. 1.]]\n",
      "[[ 30  36  42]\n",
      " [ 66  81  96]\n",
      " [102 126 150]]\n"
     ]
    }
   ],
   "source": [
    "# matrix operations\n",
    "\n",
    "mat1 = np.array([[1,2,3],[4,5,6], [7,8,9]])\n",
    "mat2 = np.array([[1,2,3],[4,5,6], [7,8,9]])\n",
    "\n",
    "#addition\n",
    "print(mat1 + mat2)\n",
    "# print(np.add(mat1, mat2))\n",
    "\n",
    "#substraction\n",
    "print(mat1 - mat2)\n",
    "# print(np.subtract(mat1, mat2))\n",
    "\n",
    "# scalar multiplication\n",
    "print(mat1 * mat2)\n",
    "# print(np.multiply(mat1, mat2))\n",
    "\n",
    "# division\n",
    "print(mat1 / mat2)\n",
    "# print(np.divide(mat1, mat2))\n",
    "\n",
    "# dot product\n",
    "print(np.dot(mat1, mat2))"
   ]
  },
  {
   "cell_type": "code",
   "execution_count": 43,
   "metadata": {
    "collapsed": false
   },
   "outputs": [
    {
     "name": "stdout",
     "output_type": "stream",
     "text": [
      "1\n",
      "6\n"
     ]
    }
   ],
   "source": [
    "# minimum value and the maximum value\n",
    "\n",
    "print(np.min(mat1))\n",
    "print(np.max(mat1))"
   ]
  },
  {
   "cell_type": "code",
   "execution_count": 46,
   "metadata": {
    "collapsed": false
   },
   "outputs": [
    {
     "data": {
      "text/plain": [
       "array([1, 5, 9])"
      ]
     },
     "execution_count": 46,
     "metadata": {
     },
     "output_type": "execute_result"
    }
   ],
   "source": [
    "# diagonal of matrix\n",
    "\n",
    "a = np.array([[1,2,3],[4,5,6],[7,8,9]])\n",
    "np.diagonal(a)"
   ]
  },
  {
   "cell_type": "code",
   "execution_count": 48,
   "metadata": {
    "collapsed": false
   },
   "outputs": [
    {
     "name": "stdout",
     "output_type": "stream",
     "text": [
      "[[1 4 7]\n",
      " [2 5 8]\n",
      " [3 6 9]]\n"
     ]
    }
   ],
   "source": [
    "# transpose the matrix\n",
    "\n",
    "print(a.T)"
   ]
  },
  {
   "cell_type": "code",
   "execution_count": 51,
   "metadata": {
    "collapsed": false
   },
   "outputs": [
    {
     "name": "stdout",
     "output_type": "stream",
     "text": [
      "[[3 6 9]\n",
      " [2 5 8]\n",
      " [1 4 7]]\n"
     ]
    }
   ],
   "source": [
    "# rotate the matrix - rot90()\n",
    "\n",
    "print(np.rot90(a))"
   ]
  },
  {
   "cell_type": "code",
   "execution_count": 53,
   "metadata": {
    "collapsed": false
   },
   "outputs": [
    {
     "name": "stdout",
     "output_type": "stream",
     "text": [
      "15\n"
     ]
    }
   ],
   "source": [
    "# sum of diagonal - trace\n",
    "\n",
    "print(np.trace(a))\n",
    "# print(a.trace())"
   ]
  },
  {
   "cell_type": "code",
   "execution_count": 55,
   "metadata": {
    "collapsed": false
   },
   "outputs": [
    {
     "name": "stdout",
     "output_type": "stream",
     "text": [
      "5.0\n",
      "5.0\n",
      "6.666666666666667\n",
      "2.581988897471611\n"
     ]
    }
   ],
   "source": [
    "# stats functions\n",
    "\n",
    "print(np.mean(a)) # mean\n",
    "print(np.median(a)) # median\n",
    "print(np.var(a)) # variance\n",
    "print(np.std(a)) # standard deviation"
   ]
  },
  {
   "cell_type": "code",
   "execution_count": 58,
   "metadata": {
    "collapsed": false
   },
   "outputs": [
    {
     "name": "stdout",
     "output_type": "stream",
     "text": [
      "[1 1 2 2]\n"
     ]
    }
   ],
   "source": [
    "# absolute value\n",
    "\n",
    "a = np.array([1,-1,2,-2])\n",
    "print(np.absolute(a))"
   ]
  },
  {
   "cell_type": "code",
   "execution_count": 62,
   "metadata": {
    "collapsed": false
   },
   "outputs": [
    {
     "name": "stdout",
     "output_type": "stream",
     "text": [
      "[1. 4.]\n",
      "[1.22 4.31]\n",
      "[1. 4.]\n",
      "[2. 5.]\n"
     ]
    }
   ],
   "source": [
    "# rounding\n",
    "\n",
    "a = np.array([1.22112211, 4.313211])\n",
    "print(np.trunc(a))\n",
    "print(np.around(a,2))\n",
    "print(np.floor(a))\n",
    "print(np.ceil(a))"
   ]
  },
  {
   "cell_type": "code",
   "execution_count": 4,
   "metadata": {
    "collapsed": false
   },
   "outputs": [
    {
     "name": "stdout",
     "output_type": "stream",
     "text": [
      "10\n",
      "0\n"
     ]
    }
   ],
   "source": [
    "# summation and product\n",
    "\n",
    "a = np.arange(5)\n",
    "\n",
    "print(np.sum(a))\n",
    "print(np.product(a))"
   ]
  },
  {
   "cell_type": "code",
   "execution_count": 5,
   "metadata": {
    "collapsed": false
   },
   "outputs": [
    {
     "data": {
      "text/plain": [
       "array([1, 2, 3])"
      ]
     },
     "execution_count": 5,
     "metadata": {
     },
     "output_type": "execute_result"
    }
   ],
   "source": [
    "# unique values of the array\n",
    "\n",
    "a = np.array([1,2,3,2,1])\n",
    "np.unique(a)"
   ]
  },
  {
   "cell_type": "code",
   "execution_count": 9,
   "metadata": {
    "collapsed": false
   },
   "outputs": [
    {
     "name": "stdout",
     "output_type": "stream",
     "text": [
      "[10 20 30 40 60]\n",
      "[20]\n"
     ]
    }
   ],
   "source": [
    "# union and intersection from array\n",
    "\n",
    "a1 = np.array([10,20,30])\n",
    "a2 = np.array([20,40,60])\n",
    "print(np.union1d(a1,a2))\n",
    "print(np.intersect1d(a1,a2))"
   ]
  },
  {
   "cell_type": "code",
   "execution_count": 15,
   "metadata": {
    "collapsed": false
   },
   "outputs": [
    {
     "name": "stdout",
     "output_type": "stream",
     "text": [
      "[[0. 0.]\n",
      " [0. 0.]]\n",
      "[[1. 1.]\n",
      " [1. 1.]]\n",
      "[[5 5]\n",
      " [5 5]]\n",
      "[[1. 0.]\n",
      " [0. 1.]]\n",
      "[[0.0714197  0.22998765]\n",
      " [0.8787404  0.78324774]]\n"
     ]
    }
   ],
   "source": [
    "# additional array operations\n",
    "\n",
    "# matrix with 0 values\n",
    "z = np.zeros((2,2))\n",
    "print(z)\n",
    "\n",
    "# matrix with 1 values\n",
    "o = np.ones((2,2))\n",
    "print(o)\n",
    "\n",
    "# matrix with some constant value\n",
    "f = np.full((2,2),5)\n",
    "print(f)\n",
    "\n",
    "# identity matrix\n",
    "i = np.eye(2,2)\n",
    "print(i)\n",
    "\n",
    "# random matrix between 0 and 1\n",
    "r = np.random.random((2,2))\n",
    "print(r)"
   ]
  },
  {
   "cell_type": "code",
   "execution_count": 0,
   "metadata": {
    "collapsed": false
   },
   "outputs": [
   ],
   "source": [
   ]
  }
 ],
 "metadata": {
  "kernelspec": {
   "display_name": "Python 3 (system-wide)",
   "language": "python",
   "metadata": {
    "cocalc": {
     "description": "Python 3 programming language",
     "priority": 100,
     "url": "https://www.python.org/"
    }
   },
   "name": "python3"
  },
  "language_info": {
   "codemirror_mode": {
    "name": "ipython",
    "version": 3
   },
   "file_extension": ".py",
   "mimetype": "text/x-python",
   "name": "python",
   "nbconvert_exporter": "python",
   "pygments_lexer": "ipython3",
   "version": "3.8.2"
  }
 },
 "nbformat": 4,
 "nbformat_minor": 4
}