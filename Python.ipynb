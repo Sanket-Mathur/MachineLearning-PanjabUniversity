{
 "cells": [
  {
   "cell_type": "code",
   "execution_count": 3,
   "metadata": {
    "collapsed": false
   },
   "outputs": [
    {
     "name": "stdout",
     "output_type": "stream",
     "text": [
      "Welcome to Python!!!\n"
     ]
    }
   ],
   "source": [
    "print('Welcome to Python!!!')"
   ]
  },
  {
   "cell_type": "code",
   "execution_count": 4,
   "metadata": {
    "collapsed": false
   },
   "outputs": [
    {
     "name": "stdout",
     "output_type": "stream",
     "text": [
      "a= 5\n",
      "b= Sanket\n"
     ]
    }
   ],
   "source": [
    "a = 5\n",
    "b = 'Sanket'\n",
    "\n",
    "print('a=', a)\n",
    "print('b=', b)"
   ]
  },
  {
   "cell_type": "code",
   "execution_count": 0,
   "metadata": {
    "collapsed": false
   },
   "outputs": [
   ],
   "source": [
    "var = input('Enter a number: ')\n",
    "print('The number you ')"
   ]
  },
  {
   "cell_type": "code",
   "execution_count": 1,
   "metadata": {
    "collapsed": false
   },
   "outputs": [
    {
     "name": "stdout",
     "output_type": "stream",
     "text": [
      "a + b =  105\n",
      "a - b =  95\n",
      "a * b =  500\n",
      "a / b =  20.0\n",
      "a % b =  0\n",
      "a ** b =  10000000000\n",
      "a // b =  20\n"
     ]
    }
   ],
   "source": [
    "a = 100\n",
    "b = 5\n",
    "\n",
    "print('a + b = ', a+b)\n",
    "print('a - b = ', a-b)\n",
    "print('a * b = ', a*b)\n",
    "print('a / b = ', a/b)\n",
    "print('a % b = ', a%b)\n",
    "print('a ** b = ', a**b)\n",
    "print('a // b = ', a//b)"
   ]
  },
  {
   "cell_type": "code",
   "execution_count": 3,
   "metadata": {
    "collapsed": false
   },
   "outputs": [
    {
     "name": "stdout",
     "output_type": "stream",
     "text": [
      "Hello World\n",
      "HelloHelloHelloHelloHello\n"
     ]
    }
   ],
   "source": [
    "a, b = 'Hello', 'World'\n",
    "print(a + ' ' + b)\n",
    "print(a*5)"
   ]
  },
  {
   "cell_type": "code",
   "execution_count": 3,
   "metadata": {
    "cocalc": {
     "outputs": {
      "0": {
       "name": "input",
       "opts": {
        "password": false,
        "prompt": "Enter a number between 5 and 10 inclusive:  "
       },
       "output_type": "stream",
       "value": "8"
      }
     }
    },
    "collapsed": false
   },
   "outputs": [
    {
     "name": "stdout",
     "output_type": "stream",
     "text": "Enter a number between 5 and 10 inclusive:   8"
    },
    {
     "name": "stdout",
     "output_type": "stream",
     "text": [
      "You're good at following instructions\n"
     ]
    }
   ],
   "source": [
    "i = int(input('Enter a number between 5 and 10 inclusive:  '))\n",
    "if 5 <= i <= 10:\n",
    "    print('You\\'re good at following instructions')\n",
    "elif i < 5:\n",
    "    print('Sorry, it\\'s lower than 5')\n",
    "else:\n",
    "    print('It\\'s way too high')"
   ]
  },
  {
   "cell_type": "code",
   "execution_count": 6,
   "metadata": {
    "collapsed": false
   },
   "outputs": [
    {
     "name": "stdout",
     "output_type": "stream",
     "text": [
      "0. Ok\n",
      "1. Ok\n",
      "2. Ok\n",
      "3. Ok\n",
      "4. Ok\n",
      "5. Ok\n",
      "6. Ok\n",
      "7. Ok\n",
      "8. Ok\n",
      "9. Ok\n"
     ]
    }
   ],
   "source": [
    "for i in range(0,10):\n",
    "    print(str(i) + '. Ok')"
   ]
  },
  {
   "cell_type": "code",
   "execution_count": 1,
   "metadata": {
    "collapsed": false
   },
   "outputs": [
    {
     "name": "stdout",
     "output_type": "stream",
     "text": [
      "0 is not equal to 3 lower than 5\n",
      "1 is not equal to 3 lower than 5\n",
      "2 is not equal to 3 lower than 5\n",
      "4 is not equal to 3 lower than 5\n"
     ]
    }
   ],
   "source": [
    "i = 0\n",
    "while True:\n",
    "    if i >= 5:\n",
    "        break\n",
    "    elif i == 3:\n",
    "        i += 1\n",
    "        continue\n",
    "    print(str(i) + ' is not equal to 3 lower than 5')\n",
    "    i += 1"
   ]
  },
  {
   "cell_type": "code",
   "execution_count": 4,
   "metadata": {
    "collapsed": false
   },
   "outputs": [
    {
     "name": "stdout",
     "output_type": "stream",
     "text": [
      "('Sanket', 'Mathur', 18)\n",
      "3\n",
      "<class 'tuple'>\n"
     ]
    }
   ],
   "source": [
    "T = ('Sanket', 'Mathur', 18)\n",
    "print(T)\n",
    "print(len(T))\n",
    "print(type(T))"
   ]
  },
  {
   "cell_type": "code",
   "execution_count": 11,
   "metadata": {
    "collapsed": false
   },
   "outputs": [
    {
     "name": "stdout",
     "output_type": "stream",
     "text": [
      "(1, 2, 3, 4, 5)\n",
      "1 2 3 4 5\n",
      "1 2 3 4 5 \n",
      "1 2 3 4 5 \n",
      "1 2 3 4 5 "
     ]
    }
   ],
   "source": [
    "T2 = tuple([1,2,3,4,5])\n",
    "\n",
    "print(T2)\n",
    "\n",
    "print(*T2)\n",
    "\n",
    "i = 0\n",
    "while i < len(T2):\n",
    "    print(T2[i], end=' ')\n",
    "    i += 1\n",
    "\n",
    "print('')\n",
    "for i in range(len(T2)):\n",
    "    print(T2[i], end=' ')\n",
    "    \n",
    "print('')\n",
    "for element in T2:\n",
    "    print(element, end=' ')"
   ]
  },
  {
   "cell_type": "code",
   "execution_count": 6,
   "metadata": {
    "collapsed": false
   },
   "outputs": [
    {
     "name": "stdout",
     "output_type": "stream",
     "text": [
      "2\n"
     ]
    }
   ],
   "source": [
    "x = (2)\n",
    "print(x)"
   ]
  },
  {
   "cell_type": "code",
   "execution_count": 15,
   "metadata": {
    "collapsed": false
   },
   "outputs": [
    {
     "name": "stdout",
     "output_type": "stream",
     "text": [
      "(5, 6, 7)\n",
      "(5, 6, 7)\n",
      "(5, 6, 7)\n",
      "(1, 3, 5, 7, 9)\n",
      "(2, 4, 6, 8, 10)\n"
     ]
    }
   ],
   "source": [
    "x = (1,2,3,4,5,6,7,8,9,10)\n",
    "print(x[4:7])\n",
    "print(x[-6:-3])\n",
    "print(x[4:-3])\n",
    "print(x[::2])\n",
    "print(x[1::2])"
   ]
  },
  {
   "cell_type": "code",
   "execution_count": 24,
   "metadata": {
    "collapsed": false
   },
   "outputs": [
    {
     "name": "stdout",
     "output_type": "stream",
     "text": [
      "[1, 2, 3, 4, 5, 6, 7, 8, 9, 10]\n",
      "10\n",
      "<class 'list'>\n"
     ]
    }
   ],
   "source": [
    "L = [1,2,3,4,5,6,7,8,9,10]\n",
    "print(L)\n",
    "print(len(L))\n",
    "print(type(L))"
   ]
  },
  {
   "cell_type": "code",
   "execution_count": 25,
   "metadata": {
    "collapsed": false
   },
   "outputs": [
    {
     "name": "stdout",
     "output_type": "stream",
     "text": [
      "[3, -5, 7]\n"
     ]
    }
   ],
   "source": [
    "L[4] = -5\n",
    "print(L[2:-2:2])"
   ]
  },
  {
   "cell_type": "code",
   "execution_count": 26,
   "metadata": {
    "collapsed": false
   },
   "outputs": [
    {
     "name": "stdout",
     "output_type": "stream",
     "text": [
      "[1, 2, 3, 4, -5, 6, 7, 8, 9, 10, 11]\n",
      "11\n",
      "[1, 2, 3, 4, -5, 6, 7, 8, 9, 10, 11, 12, 13, 14, 15]\n",
      "15\n"
     ]
    }
   ],
   "source": [
    "L.append(11)\n",
    "print(L)\n",
    "print(len(L))\n",
    "\n",
    "L.extend([12,13,14,15])\n",
    "print(L)\n",
    "print(len(L))"
   ]
  },
  {
   "cell_type": "code",
   "execution_count": 1,
   "metadata": {
    "collapsed": false
   },
   "outputs": [
    {
     "name": "stdout",
     "output_type": "stream",
     "text": [
      "{1: 'A', 2: 'B', 4: 'C', 8: 'D'}\n",
      "4\n",
      "<class 'dict'>\n"
     ]
    }
   ],
   "source": [
    "D = {1:'A', 2:'B', 4:'C', 8:'D'}\n",
    "print(D)\n",
    "print(len(D))\n",
    "print(type(D))"
   ]
  },
  {
   "cell_type": "code",
   "execution_count": 2,
   "metadata": {
    "collapsed": false
   },
   "outputs": [
    {
     "name": "stdout",
     "output_type": "stream",
     "text": [
      "Keys:   dict_keys([1, 2, 4, 8])\n",
      "Values: dict_values(['A', 'B', 'C', 'D'])\n"
     ]
    }
   ],
   "source": [
    "print('Keys:  ', D.keys())\n",
    "print('Values:', D.values())"
   ]
  },
  {
   "cell_type": "code",
   "execution_count": 3,
   "metadata": {
    "collapsed": false
   },
   "outputs": [
    {
     "name": "stdout",
     "output_type": "stream",
     "text": [
      "A B C D "
     ]
    }
   ],
   "source": [
    "for i in D.keys():\n",
    "    print(D[i], end=' ')"
   ]
  },
  {
   "cell_type": "code",
   "execution_count": 2,
   "metadata": {
    "collapsed": false
   },
   "outputs": [
    {
     "name": "stdout",
     "output_type": "stream",
     "text": [
      "{'a': 0, 'b': 2, 'c': 3, 'd': 4}\n",
      "{'a': 0, 'b': 2, 'c': 3, 'd': 4}\n"
     ]
    }
   ],
   "source": [
    "d1 = {'a':1, 'b':2}\n",
    "d2 = {'c':3, 'd':4, 'a':0}\n",
    "\n",
    "d3 = {**d1, **d2}\n",
    "print(d3)\n",
    "\n",
    "d1.update(d2)\n",
    "print(d1)"
   ]
  },
  {
   "cell_type": "code",
   "execution_count": 0,
   "metadata": {
    "collapsed": false
   },
   "outputs": [
   ],
   "source": [
   ]
  }
 ],
 "metadata": {
  "kernelspec": {
   "display_name": "Python 3 (system-wide)",
   "language": "python",
   "metadata": {
    "cocalc": {
     "description": "Python 3 programming language",
     "priority": 100,
     "url": "https://www.python.org/"
    }
   },
   "name": "python3"
  },
  "language_info": {
   "codemirror_mode": {
    "name": "ipython",
    "version": 3
   },
   "file_extension": ".py",
   "mimetype": "text/x-python",
   "name": "python",
   "nbconvert_exporter": "python",
   "pygments_lexer": "ipython3",
   "version": "3.8.2"
  }
 },
 "nbformat": 4,
 "nbformat_minor": 4
}