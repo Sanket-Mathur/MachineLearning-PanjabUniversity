{
 "cells": [
  {
   "cell_type": "code",
   "execution_count": 1,
   "metadata": {},
   "outputs": [],
   "source": [
    "import pandas as pd\n",
    "import numpy as np\n",
    "import matplotlib.pyplot as plt"
   ]
  },
  {
   "cell_type": "code",
   "execution_count": 2,
   "metadata": {},
   "outputs": [
    {
     "name": "stdout",
     "output_type": "stream",
     "text": [
      "(150, 4)\n",
      "(150,)\n"
     ]
    }
   ],
   "source": [
    "from sklearn.datasets import load_iris\n",
    "\n",
    "iris = load_iris()\n",
    "print(iris.data.shape)\n",
    "print(iris.target.shape)"
   ]
  },
  {
   "cell_type": "code",
   "execution_count": 3,
   "metadata": {},
   "outputs": [],
   "source": [
    "from sklearn.model_selection import train_test_split\n",
    "X_train, X_test, y_train, y_test = train_test_split(iris.data, iris.target, test_size=0.3, random_state=0)"
   ]
  },
  {
   "cell_type": "code",
   "execution_count": 4,
   "metadata": {},
   "outputs": [],
   "source": [
    "from sklearn.neighbors import KNeighborsClassifier\n",
    "knn = KNeighborsClassifier(n_neighbors=4).fit(X_train, y_train)\n",
    "\n",
    "pred = knn.predict(X_test)"
   ]
  },
  {
   "cell_type": "code",
   "execution_count": 5,
   "metadata": {},
   "outputs": [
    {
     "name": "stdout",
     "output_type": "stream",
     "text": [
      "[[16  0  0]\n",
      " [ 0 17  1]\n",
      " [ 0  0 11]]\n",
      "              precision    recall  f1-score   support\n",
      "\n",
      "           0       1.00      1.00      1.00        16\n",
      "           1       1.00      0.94      0.97        18\n",
      "           2       0.92      1.00      0.96        11\n",
      "\n",
      "    accuracy                           0.98        45\n",
      "   macro avg       0.97      0.98      0.98        45\n",
      "weighted avg       0.98      0.98      0.98        45\n",
      "\n"
     ]
    }
   ],
   "source": [
    "from sklearn.metrics import confusion_matrix, classification_report\n",
    "cn = confusion_matrix(y_test, pred)\n",
    "print(cn)\n",
    "print(classification_report(y_test, pred))"
   ]
  },
  {
   "cell_type": "markdown",
   "metadata": {},
   "source": [
    "### KNN from scratch"
   ]
  },
  {
   "cell_type": "code",
   "execution_count": 9,
   "metadata": {},
   "outputs": [],
   "source": [
    "import math\n",
    "\n",
    "def euclidean_distance(row1, row2):\n",
    "    distance = 0.0\n",
    "    for i in range(len(row1)-1):\n",
    "        distance += (row1[i] - row2[i])**2\n",
    "    return math.sqrt(distance)"
   ]
  },
  {
   "cell_type": "code",
   "execution_count": 36,
   "metadata": {},
   "outputs": [
    {
     "name": "stdout",
     "output_type": "stream",
     "text": [
      "[[5.1 3.5 1.4 0.2 0. ]\n",
      " [4.9 3.  1.4 0.2 0. ]\n",
      " [4.7 3.2 1.3 0.2 0. ]\n",
      " [4.6 3.1 1.5 0.2 0. ]\n",
      " [5.  3.6 1.4 0.2 0. ]]\n",
      "0.0\n",
      "0.5385164807134502\n",
      "0.509901951359278\n",
      "0.648074069840786\n",
      "0.1414213562373093\n"
     ]
    }
   ],
   "source": [
    "df = pd.DataFrame(iris.data, columns=iris.feature_names)\n",
    "df['target'] = iris.target\n",
    "\n",
    "dataset = df.values\n",
    "print(dataset[:5])\n",
    "row0 = dataset[0]\n",
    "for row in dataset[:5]:\n",
    "    distance = euclidean_distance(row0, row)\n",
    "    print(distance)"
   ]
  },
  {
   "cell_type": "code",
   "execution_count": 13,
   "metadata": {},
   "outputs": [
    {
     "name": "stdout",
     "output_type": "stream",
     "text": [
      "[6.3 3.3 6.  2.5 2. ]\n",
      "[6.5 3.  5.8 2.2 2. ]\n",
      "[6.3 2.9 5.6 1.8 2. ]\n"
     ]
    }
   ],
   "source": [
    "def get_neighbors(train, test_row, num_neighbors):\n",
    "    distances = []\n",
    "    for train_row in train:\n",
    "        dist = euclidean_distance(test_row, train_row)\n",
    "        distances.append((train_row, dist))\n",
    "    distances.sort(key=lambda x: x[1])\n",
    "    neighbors = []\n",
    "    for i in range(num_neighbors):\n",
    "        neighbors.append(distances[i][0])\n",
    "    return neighbors\n",
    "\n",
    "neighbors = get_neighbors(dataset, dataset[0], 3)\n",
    "for neighbor in neighbors:\n",
    "    print(neighbor)"
   ]
  },
  {
   "cell_type": "code",
   "execution_count": 17,
   "metadata": {},
   "outputs": [],
   "source": [
    "def predict_classification(train, test_row, num_neighbors):\n",
    "    neighbors = get_neighbors(train, test_row, num_neighbors)\n",
    "    output_values = [row[-1] for row in neighbors]\n",
    "    prediction = max(set(output_values), key=output_values.count)\n",
    "    return prediction"
   ]
  },
  {
   "cell_type": "code",
   "execution_count": 30,
   "metadata": {},
   "outputs": [
    {
     "name": "stdout",
     "output_type": "stream",
     "text": [
      "Expected 0.0, Got 0.0\n",
      "Expected 0.0, Got 0.0\n",
      "Expected 0.0, Got 0.0\n",
      "Expected 0.0, Got 0.0\n",
      "Expected 0.0, Got 0.0\n",
      "Expected 0.0, Got 0.0\n",
      "Expected 0.0, Got 0.0\n",
      "Expected 0.0, Got 0.0\n",
      "Expected 0.0, Got 0.0\n",
      "Expected 0.0, Got 0.0\n",
      "Expected 0.0, Got 0.0\n",
      "Expected 0.0, Got 0.0\n",
      "Expected 0.0, Got 0.0\n",
      "Expected 0.0, Got 0.0\n",
      "Expected 0.0, Got 0.0\n",
      "Expected 0.0, Got 0.0\n",
      "Expected 0.0, Got 0.0\n",
      "Expected 0.0, Got 0.0\n",
      "Expected 0.0, Got 0.0\n",
      "Expected 0.0, Got 0.0\n",
      "Expected 0.0, Got 0.0\n",
      "Expected 0.0, Got 0.0\n",
      "Expected 0.0, Got 0.0\n",
      "Expected 0.0, Got 0.0\n",
      "Expected 0.0, Got 0.0\n",
      "Expected 0.0, Got 0.0\n",
      "Expected 0.0, Got 0.0\n",
      "Expected 0.0, Got 0.0\n",
      "Expected 0.0, Got 0.0\n",
      "Expected 0.0, Got 0.0\n",
      "Expected 0.0, Got 0.0\n",
      "Expected 0.0, Got 0.0\n",
      "Expected 0.0, Got 0.0\n",
      "Expected 0.0, Got 0.0\n",
      "Expected 0.0, Got 0.0\n",
      "Expected 0.0, Got 0.0\n",
      "Expected 0.0, Got 0.0\n",
      "Expected 0.0, Got 0.0\n",
      "Expected 0.0, Got 0.0\n",
      "Expected 0.0, Got 0.0\n",
      "Expected 0.0, Got 0.0\n",
      "Expected 0.0, Got 0.0\n",
      "Expected 0.0, Got 0.0\n",
      "Expected 0.0, Got 0.0\n",
      "Expected 0.0, Got 0.0\n",
      "Expected 0.0, Got 0.0\n",
      "Expected 0.0, Got 0.0\n",
      "Expected 0.0, Got 0.0\n",
      "Expected 0.0, Got 0.0\n",
      "Expected 0.0, Got 0.0\n",
      "Expected 1.0, Got 1.0\n",
      "Expected 1.0, Got 1.0\n",
      "Expected 1.0, Got 1.0\n",
      "Expected 1.0, Got 1.0\n",
      "Expected 1.0, Got 1.0\n",
      "Expected 1.0, Got 1.0\n",
      "Expected 1.0, Got 1.0\n",
      "Expected 1.0, Got 1.0\n",
      "Expected 1.0, Got 1.0\n",
      "Expected 1.0, Got 1.0\n",
      "Expected 1.0, Got 1.0\n",
      "Expected 1.0, Got 1.0\n",
      "Expected 1.0, Got 1.0\n",
      "Expected 1.0, Got 1.0\n",
      "Expected 1.0, Got 1.0\n",
      "Expected 1.0, Got 1.0\n",
      "Expected 1.0, Got 1.0\n",
      "Expected 1.0, Got 1.0\n",
      "Expected 1.0, Got 1.0\n",
      "Expected 1.0, Got 1.0\n",
      "Expected 1.0, Got 2.0\n",
      "Expected 1.0, Got 1.0\n",
      "Expected 1.0, Got 2.0\n",
      "Expected 1.0, Got 1.0\n",
      "Expected 1.0, Got 1.0\n",
      "Expected 1.0, Got 1.0\n",
      "Expected 1.0, Got 1.0\n",
      "Expected 1.0, Got 1.0\n",
      "Expected 1.0, Got 1.0\n",
      "Expected 1.0, Got 1.0\n",
      "Expected 1.0, Got 1.0\n",
      "Expected 1.0, Got 1.0\n",
      "Expected 1.0, Got 1.0\n",
      "Expected 1.0, Got 2.0\n",
      "Expected 1.0, Got 1.0\n",
      "Expected 1.0, Got 1.0\n",
      "Expected 1.0, Got 1.0\n",
      "Expected 1.0, Got 1.0\n",
      "Expected 1.0, Got 1.0\n",
      "Expected 1.0, Got 1.0\n",
      "Expected 1.0, Got 1.0\n",
      "Expected 1.0, Got 1.0\n",
      "Expected 1.0, Got 1.0\n",
      "Expected 1.0, Got 1.0\n",
      "Expected 1.0, Got 1.0\n",
      "Expected 1.0, Got 1.0\n",
      "Expected 1.0, Got 1.0\n",
      "Expected 1.0, Got 1.0\n",
      "Expected 1.0, Got 1.0\n",
      "Expected 1.0, Got 1.0\n",
      "Expected 2.0, Got 2.0\n",
      "Expected 2.0, Got 2.0\n",
      "Expected 2.0, Got 2.0\n",
      "Expected 2.0, Got 2.0\n",
      "Expected 2.0, Got 2.0\n",
      "Expected 2.0, Got 2.0\n",
      "Expected 2.0, Got 1.0\n",
      "Expected 2.0, Got 2.0\n",
      "Expected 2.0, Got 2.0\n",
      "Expected 2.0, Got 2.0\n",
      "Expected 2.0, Got 2.0\n",
      "Expected 2.0, Got 2.0\n",
      "Expected 2.0, Got 2.0\n",
      "Expected 2.0, Got 2.0\n",
      "Expected 2.0, Got 2.0\n",
      "Expected 2.0, Got 2.0\n",
      "Expected 2.0, Got 2.0\n",
      "Expected 2.0, Got 2.0\n",
      "Expected 2.0, Got 2.0\n",
      "Expected 2.0, Got 1.0\n",
      "Expected 2.0, Got 2.0\n",
      "Expected 2.0, Got 2.0\n",
      "Expected 2.0, Got 2.0\n",
      "Expected 2.0, Got 2.0\n",
      "Expected 2.0, Got 2.0\n",
      "Expected 2.0, Got 2.0\n",
      "Expected 2.0, Got 2.0\n",
      "Expected 2.0, Got 2.0\n",
      "Expected 2.0, Got 2.0\n",
      "Expected 2.0, Got 2.0\n",
      "Expected 2.0, Got 2.0\n",
      "Expected 2.0, Got 2.0\n",
      "Expected 2.0, Got 2.0\n",
      "Expected 2.0, Got 1.0\n",
      "Expected 2.0, Got 2.0\n",
      "Expected 2.0, Got 2.0\n",
      "Expected 2.0, Got 2.0\n",
      "Expected 2.0, Got 2.0\n",
      "Expected 2.0, Got 2.0\n",
      "Expected 2.0, Got 2.0\n",
      "Expected 2.0, Got 2.0\n",
      "Expected 2.0, Got 2.0\n",
      "Expected 2.0, Got 2.0\n",
      "Expected 2.0, Got 2.0\n",
      "Expected 2.0, Got 2.0\n",
      "Expected 2.0, Got 2.0\n",
      "Expected 2.0, Got 2.0\n",
      "Expected 2.0, Got 2.0\n",
      "Expected 2.0, Got 2.0\n",
      "Expected 2.0, Got 2.0\n"
     ]
    }
   ],
   "source": [
    "for row in dataset:\n",
    "    prediction = predict_classification(dataset, row, 3)\n",
    "    print('Expected {}, Got {}'.format(row[-1], prediction))"
   ]
  },
  {
   "cell_type": "code",
   "execution_count": 39,
   "metadata": {},
   "outputs": [
    {
     "name": "stdout",
     "output_type": "stream",
     "text": [
      "Score: 0.96\n"
     ]
    }
   ],
   "source": [
    "pred = []\n",
    "for row in dataset:\n",
    "    prediction = predict_classification(dataset, row, 3)\n",
    "    pred.append(1 if row[-1]==prediction else 0)\n",
    "print('Score: {}'.format(pred.count(1) / len(pred)))"
   ]
  },
  {
   "cell_type": "code",
   "execution_count": null,
   "metadata": {},
   "outputs": [],
   "source": []
  }
 ],
 "metadata": {
  "kernelspec": {
   "display_name": "Python 3",
   "language": "python",
   "name": "python3"
  },
  "language_info": {
   "codemirror_mode": {
    "name": "ipython",
    "version": 3
   },
   "file_extension": ".py",
   "mimetype": "text/x-python",
   "name": "python",
   "nbconvert_exporter": "python",
   "pygments_lexer": "ipython3",
   "version": "3.8.2"
  }
 },
 "nbformat": 4,
 "nbformat_minor": 4
}
